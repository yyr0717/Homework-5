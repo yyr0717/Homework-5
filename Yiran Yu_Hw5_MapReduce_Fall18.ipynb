{
 "cells": [
  {
   "cell_type": "code",
   "execution_count": 3,
   "metadata": {},
   "outputs": [],
   "source": [
    "%matplotlib inline\n",
    "import pandas as pd\n",
    "import numpy as np\n",
    "import matplotlib as mpl\n",
    "import matplotlib.pyplot as plt\n",
    "import mrjob as mr\n"
   ]
  },
  {
   "cell_type": "code",
   "execution_count": null,
   "metadata": {},
   "outputs": [],
   "source": []
  },
  {
   "cell_type": "markdown",
   "metadata": {},
   "source": [
    "### Homework 5\n",
    "\n",
    "Copy this notebook. Rename it as: YOURNAME-HW4-mapreduce-XX\n",
    "\n",
    "with your name replacing YOURNAME and the xx replaced with the date you submit or copy this HW.\n",
    "\n",
    "Upload your completed jupyter notebook to elearning site as your homework submission. Do not put this notebook on your github.\n",
    "\n",
    "Do all the homeworks problems below:\n",
    "As noted doing the homework gets a 3 out of 5. Extension of homework to to implement an TD-IDF algorithm  (see below)\n",
    "\n",
    "Use the data/bible+shakes.nonpunc.txt file as the source of you analysis in this homework"
   ]
  },
  {
   "cell_type": "markdown",
   "metadata": {},
   "source": [
    "##Homework 5.1\n",
    " A bigram is the combination of words.  Find the 10 most common bigrams from the text.  Order counts in the bigram combination for example \"in the\" is not the same bigram as \"the in\"\n",
    "\n"
   ]
  },
  {
   "cell_type": "code",
   "execution_count": 1,
   "metadata": {},
   "outputs": [
    {
     "name": "stderr",
     "output_type": "stream",
     "text": [
      "usage: usage: ipykernel_launcher.py [options] [input files]\n",
      "ipykernel_launcher.py: error: unrecognized arguments: -f\n"
     ]
    },
    {
     "ename": "SystemExit",
     "evalue": "2",
     "output_type": "error",
     "traceback": [
      "An exception has occurred, use %tb to see the full traceback.\n",
      "\u001b[0;31mSystemExit\u001b[0m\u001b[0;31m:\u001b[0m 2\n"
     ]
    },
    {
     "name": "stderr",
     "output_type": "stream",
     "text": [
      "/Users/yuyiran/anaconda2/lib/python2.7/site-packages/IPython/core/interactiveshell.py:2886: UserWarning: To exit: use 'exit', 'quit', or Ctrl-D.\n",
      "  warn(\"To exit: use 'exit', 'quit', or Ctrl-D.\", stacklevel=1)\n"
     ]
    }
   ],
   "source": [
    "from mrjob.job import MRJob\n",
    "from mrjob.step import MRStep\n",
    "import re\n",
    "import heapq\n",
    "from itertools import islice, izip\n",
    "import itertools\n",
    "\n",
    "WORD_RE = re.compile(r\"[\\w']+\")\n",
    "\n",
    "class BigramCount(MRJob): \n",
    "    def mapper(self, _, line): # set bigram \n",
    "        words = WORD_RE.findall(line)\n",
    "        for i in izip(words, islice(words, 1, None)):\n",
    "            bigram=str(i[0]+\" \"+i[1])\n",
    "            yield (bigram, 1)\n",
    "\n",
    "    def reducer(self, bigram, counts): # count bigram\n",
    "        yield None,[sum(counts),bigram]\n",
    "        \n",
    "    def top10(self,_,values): # set the top 10 value\n",
    "        for c,val in heapq.nlargest(10,values):\n",
    "            yield c,val\n",
    "            \n",
    "    def steps(self):\n",
    "        return [MRStep(mapper=self.mapper, reducer=self.reducer),MRStep(reducer=self.top10)]       \n",
    "\n",
    "\n",
    "if __name__ == '__main__':\n",
    "    BigramCount.run()"
   ]
  },
  {
   "cell_type": "code",
   "execution_count": 2,
   "metadata": {},
   "outputs": [
    {
     "name": "stderr",
     "output_type": "stream",
     "text": [
      "No configs found; falling back on auto-configuration\n",
      "No configs specified for inline runner\n",
      "Running step 1 of 2...\n",
      "Creating temp directory /var/folders/gc/9wzfft1j25x30gdz09scyb240000gn/T/bigramscount.yuyiran.20181008.141618.412896\n",
      "Running step 2 of 2...\n",
      "job output is in /var/folders/gc/9wzfft1j25x30gdz09scyb240000gn/T/bigramscount.yuyiran.20181008.141618.412896/output\n",
      "Streaming final output from /var/folders/gc/9wzfft1j25x30gdz09scyb240000gn/T/bigramscount.yuyiran.20181008.141618.412896/output...\n"
     ]
    },
    {
     "name": "stdout",
     "output_type": "stream",
     "text": [
      "13037\t\"of the\"\n",
      "7034\t\"and the\"\n",
      "7017\t\"the lord\"\n",
      "6738\t\"in the\"\n",
      "3799\t\"to the\"\n",
      "3470\t\"i will\"\n",
      "3020\t\"and he\"\n",
      "3013\t\"shall be\"\n",
      "2714\t\"all the\"\n",
      "2666\t\"i have\"\n"
     ]
    },
    {
     "name": "stderr",
     "output_type": "stream",
     "text": [
      "Removing temp directory /var/folders/gc/9wzfft1j25x30gdz09scyb240000gn/T/bigramscount.yuyiran.20181008.141618.412896...\n"
     ]
    }
   ],
   "source": [
    "%run code/bigramscount.py data/bible+shakes.nopunc.txt"
   ]
  },
  {
   "cell_type": "markdown",
   "metadata": {},
   "source": [
    "## Homework 5.2\n",
    "Now do the same analysis but make the word order not count \"in the\" == \"the in\".  Find the 10 most common ordered bigrams from the alice text.  \n",
    " "
   ]
  },
  {
   "cell_type": "code",
   "execution_count": 3,
   "metadata": {},
   "outputs": [
    {
     "name": "stderr",
     "output_type": "stream",
     "text": [
      "usage: usage: ipykernel_launcher.py [options] [input files]\n",
      "ipykernel_launcher.py: error: unrecognized arguments: -f\n"
     ]
    },
    {
     "ename": "SystemExit",
     "evalue": "2",
     "output_type": "error",
     "traceback": [
      "An exception has occurred, use %tb to see the full traceback.\n",
      "\u001b[0;31mSystemExit\u001b[0m\u001b[0;31m:\u001b[0m 2\n"
     ]
    }
   ],
   "source": [
    "from mrjob.job import MRJob\n",
    "from mrjob.step import MRStep\n",
    "import re\n",
    "import heapq\n",
    "\n",
    "WORD_RE = re.compile(r\"[\\w']+\")\n",
    "\n",
    "class BigramCount2(MRJob):\n",
    "    def mapper(self, _, line):\n",
    "        words = WORD_RE.findall(line)\n",
    "        for i in range(len(words)-1):  # words order\n",
    "            bigrams=sorted([words[i],words[i+1]])\n",
    "            yield ' '.join(bigrams),1\n",
    "\n",
    "    def reducer(self, bigram, counts): # count bigram\n",
    "        yield None,[sum(counts),bigram]\n",
    "        \n",
    "    def top10(self,_,values): # set the top 10 values\n",
    "        for c,val in heapq.nlargest(10,values):\n",
    "            yield c,val\n",
    "            \n",
    "    def steps(self):\n",
    "        return [MRStep(mapper=self.mapper, reducer=self.reducer),MRStep(reducer=self.top10)]       \n",
    "\n",
    "\n",
    "if __name__ == '__main__':\n",
    "    BigramCount2.run()"
   ]
  },
  {
   "cell_type": "code",
   "execution_count": 5,
   "metadata": {},
   "outputs": [
    {
     "name": "stderr",
     "output_type": "stream",
     "text": [
      "No configs found; falling back on auto-configuration\n",
      "No configs found; falling back on auto-configuration\n",
      "No configs found; falling back on auto-configuration\n",
      "No configs specified for inline runner\n",
      "No configs specified for inline runner\n",
      "No configs specified for inline runner\n",
      "Running step 1 of 2...\n",
      "Running step 1 of 2...\n",
      "Running step 1 of 2...\n",
      "Creating temp directory /var/folders/gc/9wzfft1j25x30gdz09scyb240000gn/T/Bigramscount2.yuyiran.20181008.142458.723743\n",
      "Creating temp directory /var/folders/gc/9wzfft1j25x30gdz09scyb240000gn/T/Bigramscount2.yuyiran.20181008.142458.723743\n",
      "Creating temp directory /var/folders/gc/9wzfft1j25x30gdz09scyb240000gn/T/Bigramscount2.yuyiran.20181008.142458.723743\n",
      "Running step 2 of 2...\n",
      "Running step 2 of 2...\n",
      "Running step 2 of 2...\n",
      "job output is in /var/folders/gc/9wzfft1j25x30gdz09scyb240000gn/T/Bigramscount2.yuyiran.20181008.142458.723743/output\n",
      "job output is in /var/folders/gc/9wzfft1j25x30gdz09scyb240000gn/T/Bigramscount2.yuyiran.20181008.142458.723743/output\n",
      "job output is in /var/folders/gc/9wzfft1j25x30gdz09scyb240000gn/T/Bigramscount2.yuyiran.20181008.142458.723743/output\n",
      "Streaming final output from /var/folders/gc/9wzfft1j25x30gdz09scyb240000gn/T/Bigramscount2.yuyiran.20181008.142458.723743/output...\n",
      "Streaming final output from /var/folders/gc/9wzfft1j25x30gdz09scyb240000gn/T/Bigramscount2.yuyiran.20181008.142458.723743/output...\n",
      "Streaming final output from /var/folders/gc/9wzfft1j25x30gdz09scyb240000gn/T/Bigramscount2.yuyiran.20181008.142458.723743/output...\n"
     ]
    },
    {
     "name": "stdout",
     "output_type": "stream",
     "text": [
      "13037\t\"of the\"\n",
      "7244\t\"lord the\"\n",
      "7034\t\"and the\"\n",
      "6739\t\"in the\"\n",
      "4100\t\"i will\"\n",
      "3799\t\"the to\"\n",
      "3129\t\"and he\"\n",
      "3123\t\"have i\"\n",
      "3015\t\"be shall\"\n",
      "2881\t\"am i\"\n"
     ]
    },
    {
     "name": "stderr",
     "output_type": "stream",
     "text": [
      "Removing temp directory /var/folders/gc/9wzfft1j25x30gdz09scyb240000gn/T/Bigramscount2.yuyiran.20181008.142458.723743...\n",
      "Removing temp directory /var/folders/gc/9wzfft1j25x30gdz09scyb240000gn/T/Bigramscount2.yuyiran.20181008.142458.723743...\n",
      "Removing temp directory /var/folders/gc/9wzfft1j25x30gdz09scyb240000gn/T/Bigramscount2.yuyiran.20181008.142458.723743...\n"
     ]
    }
   ],
   "source": [
    "%run code/Bigramscount2.py data/bible+shakes.nopunc.txt"
   ]
  },
  {
   "cell_type": "markdown",
   "metadata": {},
   "source": [
    "## Homework 5.3\n",
    "A trigram are three word combintation.  Find the 10 most common ordered trigrams from the alice text.  Make it so that the order of the words do not count in the trigram combination for example \"in the air\" is the same trigram as \"the air in\" or \"air in the\"...\n"
   ]
  },
  {
   "cell_type": "code",
   "execution_count": 6,
   "metadata": {},
   "outputs": [
    {
     "name": "stderr",
     "output_type": "stream",
     "text": [
      "usage: usage: ipykernel_launcher.py [options] [input files]\n",
      "ipykernel_launcher.py: error: unrecognized arguments: -f\n"
     ]
    },
    {
     "ename": "SystemExit",
     "evalue": "2",
     "output_type": "error",
     "traceback": [
      "An exception has occurred, use %tb to see the full traceback.\n",
      "\u001b[0;31mSystemExit\u001b[0m\u001b[0;31m:\u001b[0m 2\n"
     ]
    }
   ],
   "source": [
    "from mrjob.job import MRJob\n",
    "from mrjob.step import MRStep\n",
    "import re\n",
    "import heapq\n",
    "\n",
    "WORD_RE = re.compile(r\"[\\w']+\")\n",
    "\n",
    "class trigramscount(MRJob):\n",
    "    def mapper(self, _, line): # set trigram\n",
    "        word = WORD_RE.findall(line)\n",
    "        for i in range(len(word)-2): # word order\n",
    "            Trigrams=sorted([word[i],word[i+1],word[i+2]])\n",
    "            yield ' '.join(Trigrams),1\n",
    "\n",
    "    def reducer(self, trigrams, counts): # count trigram\n",
    "        yield None,[sum(counts),trigrams]\n",
    "        \n",
    "    def top10(self,_,values): # set the top 10 values\n",
    "        for c,val in heapq.nlargest(10,values):\n",
    "            yield c,val\n",
    "            \n",
    "    def steps(self):\n",
    "        return [MRStep(mapper=self.mapper, reducer=self.reducer),MRStep(reducer=self.top10)]       \n",
    "\n",
    "\n",
    "if __name__ == '__main__':\n",
    "    trigramscount.run()"
   ]
  },
  {
   "cell_type": "code",
   "execution_count": 10,
   "metadata": {},
   "outputs": [
    {
     "name": "stderr",
     "output_type": "stream",
     "text": [
      "No configs found; falling back on auto-configuration\n",
      "No configs found; falling back on auto-configuration\n",
      "No configs found; falling back on auto-configuration\n",
      "No configs found; falling back on auto-configuration\n",
      "No configs found; falling back on auto-configuration\n",
      "No configs found; falling back on auto-configuration\n",
      "No configs found; falling back on auto-configuration\n",
      "No configs specified for inline runner\n",
      "No configs specified for inline runner\n",
      "No configs specified for inline runner\n",
      "No configs specified for inline runner\n",
      "No configs specified for inline runner\n",
      "No configs specified for inline runner\n",
      "No configs specified for inline runner\n",
      "Running step 1 of 2...\n",
      "Running step 1 of 2...\n",
      "Running step 1 of 2...\n",
      "Running step 1 of 2...\n",
      "Running step 1 of 2...\n",
      "Running step 1 of 2...\n",
      "Running step 1 of 2...\n",
      "Creating temp directory /var/folders/gc/9wzfft1j25x30gdz09scyb240000gn/T/Trigram.yuyiran.20181008.145440.363362\n",
      "Creating temp directory /var/folders/gc/9wzfft1j25x30gdz09scyb240000gn/T/Trigram.yuyiran.20181008.145440.363362\n",
      "Creating temp directory /var/folders/gc/9wzfft1j25x30gdz09scyb240000gn/T/Trigram.yuyiran.20181008.145440.363362\n",
      "Creating temp directory /var/folders/gc/9wzfft1j25x30gdz09scyb240000gn/T/Trigram.yuyiran.20181008.145440.363362\n",
      "Creating temp directory /var/folders/gc/9wzfft1j25x30gdz09scyb240000gn/T/Trigram.yuyiran.20181008.145440.363362\n",
      "Creating temp directory /var/folders/gc/9wzfft1j25x30gdz09scyb240000gn/T/Trigram.yuyiran.20181008.145440.363362\n",
      "Creating temp directory /var/folders/gc/9wzfft1j25x30gdz09scyb240000gn/T/Trigram.yuyiran.20181008.145440.363362\n",
      "Running step 2 of 2...\n",
      "Running step 2 of 2...\n",
      "Running step 2 of 2...\n",
      "Running step 2 of 2...\n",
      "Running step 2 of 2...\n",
      "Running step 2 of 2...\n",
      "Running step 2 of 2...\n",
      "job output is in /var/folders/gc/9wzfft1j25x30gdz09scyb240000gn/T/Trigram.yuyiran.20181008.145440.363362/output\n",
      "job output is in /var/folders/gc/9wzfft1j25x30gdz09scyb240000gn/T/Trigram.yuyiran.20181008.145440.363362/output\n",
      "job output is in /var/folders/gc/9wzfft1j25x30gdz09scyb240000gn/T/Trigram.yuyiran.20181008.145440.363362/output\n",
      "job output is in /var/folders/gc/9wzfft1j25x30gdz09scyb240000gn/T/Trigram.yuyiran.20181008.145440.363362/output\n",
      "job output is in /var/folders/gc/9wzfft1j25x30gdz09scyb240000gn/T/Trigram.yuyiran.20181008.145440.363362/output\n",
      "job output is in /var/folders/gc/9wzfft1j25x30gdz09scyb240000gn/T/Trigram.yuyiran.20181008.145440.363362/output\n",
      "job output is in /var/folders/gc/9wzfft1j25x30gdz09scyb240000gn/T/Trigram.yuyiran.20181008.145440.363362/output\n",
      "Streaming final output from /var/folders/gc/9wzfft1j25x30gdz09scyb240000gn/T/Trigram.yuyiran.20181008.145440.363362/output...\n",
      "Streaming final output from /var/folders/gc/9wzfft1j25x30gdz09scyb240000gn/T/Trigram.yuyiran.20181008.145440.363362/output...\n",
      "Streaming final output from /var/folders/gc/9wzfft1j25x30gdz09scyb240000gn/T/Trigram.yuyiran.20181008.145440.363362/output...\n",
      "Streaming final output from /var/folders/gc/9wzfft1j25x30gdz09scyb240000gn/T/Trigram.yuyiran.20181008.145440.363362/output...\n",
      "Streaming final output from /var/folders/gc/9wzfft1j25x30gdz09scyb240000gn/T/Trigram.yuyiran.20181008.145440.363362/output...\n",
      "Streaming final output from /var/folders/gc/9wzfft1j25x30gdz09scyb240000gn/T/Trigram.yuyiran.20181008.145440.363362/output...\n",
      "Streaming final output from /var/folders/gc/9wzfft1j25x30gdz09scyb240000gn/T/Trigram.yuyiran.20181008.145440.363362/output...\n"
     ]
    },
    {
     "name": "stdout",
     "output_type": "stream",
     "text": [
      "2053\t\"lord of the\"\n",
      "1794\t\"children of the\"\n",
      "1581\t\"house of the\"\n",
      "1523\t\"of son the\"\n",
      "1187\t\"and lord the\"\n",
      "1025\t\"land of the\"\n",
      "866\t\"lord saith the\"\n",
      "855\t\"of out the\"\n",
      "813\t\"and i will\"\n",
      "762\t\"of sons the\"\n"
     ]
    },
    {
     "name": "stderr",
     "output_type": "stream",
     "text": [
      "Removing temp directory /var/folders/gc/9wzfft1j25x30gdz09scyb240000gn/T/Trigram.yuyiran.20181008.145440.363362...\n",
      "Removing temp directory /var/folders/gc/9wzfft1j25x30gdz09scyb240000gn/T/Trigram.yuyiran.20181008.145440.363362...\n",
      "Removing temp directory /var/folders/gc/9wzfft1j25x30gdz09scyb240000gn/T/Trigram.yuyiran.20181008.145440.363362...\n",
      "Removing temp directory /var/folders/gc/9wzfft1j25x30gdz09scyb240000gn/T/Trigram.yuyiran.20181008.145440.363362...\n",
      "Removing temp directory /var/folders/gc/9wzfft1j25x30gdz09scyb240000gn/T/Trigram.yuyiran.20181008.145440.363362...\n",
      "Removing temp directory /var/folders/gc/9wzfft1j25x30gdz09scyb240000gn/T/Trigram.yuyiran.20181008.145440.363362...\n",
      "Removing temp directory /var/folders/gc/9wzfft1j25x30gdz09scyb240000gn/T/Trigram.yuyiran.20181008.145440.363362...\n"
     ]
    }
   ],
   "source": [
    "%run code/Trigram.py data/bible+shakes.nopunc.txt"
   ]
  },
  {
   "cell_type": "markdown",
   "metadata": {},
   "source": [
    "## Homework 5.4\n",
    "Create graphs to explain the relationship of the frequency of monograms ( words ) to bigrams and trigam frequencies"
   ]
  },
  {
   "cell_type": "code",
   "execution_count": 13,
   "metadata": {},
   "outputs": [
    {
     "name": "stderr",
     "output_type": "stream",
     "text": [
      "usage: usage: ipykernel_launcher.py [options] [input files]\n",
      "ipykernel_launcher.py: error: unrecognized arguments: -f\n"
     ]
    },
    {
     "ename": "SystemExit",
     "evalue": "2",
     "output_type": "error",
     "traceback": [
      "An exception has occurred, use %tb to see the full traceback.\n",
      "\u001b[0;31mSystemExit\u001b[0m\u001b[0;31m:\u001b[0m 2\n"
     ]
    }
   ],
   "source": [
    "from mrjob.job import MRJob\n",
    "from mrjob.step import MRStep\n",
    "import re\n",
    "import heapq\n",
    "\n",
    "WORD_RE = re.compile(r\"[\\w']+\")\n",
    "\n",
    "class wordcount(MRJob):\n",
    "    def mapper(self, _, line):\n",
    "        word = WORD_RE.findall(line)\n",
    "        for i in range(len(word)):\n",
    "            yield word[i],1\n",
    "\n",
    "    def reducer(self, key, counts):\n",
    "        yield None,[sum(counts),key]\n",
    "\n",
    "    def top10(self,_,values): \n",
    "        for c,val in heapq.nlargest(10,values):\n",
    "            yield c,val\n",
    "\n",
    "    def steps(self):\n",
    "        return [MRStep(mapper=self.mapper,reducer=self.reducer),\n",
    "                MRStep(reducer=self.top10)]\n",
    "    \n",
    "\n",
    "if __name__ == '__main__':\n",
    "    wordcount.run()\n"
   ]
  },
  {
   "cell_type": "code",
   "execution_count": 16,
   "metadata": {},
   "outputs": [
    {
     "name": "stderr",
     "output_type": "stream",
     "text": [
      "No configs found; falling back on auto-configuration\n",
      "No configs found; falling back on auto-configuration\n",
      "No configs found; falling back on auto-configuration\n",
      "No configs found; falling back on auto-configuration\n",
      "No configs found; falling back on auto-configuration\n",
      "No configs found; falling back on auto-configuration\n",
      "No configs found; falling back on auto-configuration\n",
      "No configs found; falling back on auto-configuration\n",
      "No configs found; falling back on auto-configuration\n",
      "No configs found; falling back on auto-configuration\n",
      "No configs found; falling back on auto-configuration\n",
      "No configs specified for inline runner\n",
      "No configs specified for inline runner\n",
      "No configs specified for inline runner\n",
      "No configs specified for inline runner\n",
      "No configs specified for inline runner\n",
      "No configs specified for inline runner\n",
      "No configs specified for inline runner\n",
      "No configs specified for inline runner\n",
      "No configs specified for inline runner\n",
      "No configs specified for inline runner\n",
      "No configs specified for inline runner\n",
      "Running step 1 of 2...\n",
      "Running step 1 of 2...\n",
      "Running step 1 of 2...\n",
      "Running step 1 of 2...\n",
      "Running step 1 of 2...\n",
      "Running step 1 of 2...\n",
      "Running step 1 of 2...\n",
      "Running step 1 of 2...\n",
      "Running step 1 of 2...\n",
      "Running step 1 of 2...\n",
      "Running step 1 of 2...\n",
      "Creating temp directory /var/folders/gc/9wzfft1j25x30gdz09scyb240000gn/T/wordcount.yuyiran.20181008.151714.405200\n",
      "Creating temp directory /var/folders/gc/9wzfft1j25x30gdz09scyb240000gn/T/wordcount.yuyiran.20181008.151714.405200\n",
      "Creating temp directory /var/folders/gc/9wzfft1j25x30gdz09scyb240000gn/T/wordcount.yuyiran.20181008.151714.405200\n",
      "Creating temp directory /var/folders/gc/9wzfft1j25x30gdz09scyb240000gn/T/wordcount.yuyiran.20181008.151714.405200\n",
      "Creating temp directory /var/folders/gc/9wzfft1j25x30gdz09scyb240000gn/T/wordcount.yuyiran.20181008.151714.405200\n",
      "Creating temp directory /var/folders/gc/9wzfft1j25x30gdz09scyb240000gn/T/wordcount.yuyiran.20181008.151714.405200\n",
      "Creating temp directory /var/folders/gc/9wzfft1j25x30gdz09scyb240000gn/T/wordcount.yuyiran.20181008.151714.405200\n",
      "Creating temp directory /var/folders/gc/9wzfft1j25x30gdz09scyb240000gn/T/wordcount.yuyiran.20181008.151714.405200\n",
      "Creating temp directory /var/folders/gc/9wzfft1j25x30gdz09scyb240000gn/T/wordcount.yuyiran.20181008.151714.405200\n",
      "Creating temp directory /var/folders/gc/9wzfft1j25x30gdz09scyb240000gn/T/wordcount.yuyiran.20181008.151714.405200\n",
      "Creating temp directory /var/folders/gc/9wzfft1j25x30gdz09scyb240000gn/T/wordcount.yuyiran.20181008.151714.405200\n",
      "Running step 2 of 2...\n",
      "Running step 2 of 2...\n",
      "Running step 2 of 2...\n",
      "Running step 2 of 2...\n",
      "Running step 2 of 2...\n",
      "Running step 2 of 2...\n",
      "Running step 2 of 2...\n",
      "Running step 2 of 2...\n",
      "Running step 2 of 2...\n",
      "Running step 2 of 2...\n",
      "Running step 2 of 2...\n",
      "job output is in /var/folders/gc/9wzfft1j25x30gdz09scyb240000gn/T/wordcount.yuyiran.20181008.151714.405200/output\n",
      "job output is in /var/folders/gc/9wzfft1j25x30gdz09scyb240000gn/T/wordcount.yuyiran.20181008.151714.405200/output\n",
      "job output is in /var/folders/gc/9wzfft1j25x30gdz09scyb240000gn/T/wordcount.yuyiran.20181008.151714.405200/output\n",
      "job output is in /var/folders/gc/9wzfft1j25x30gdz09scyb240000gn/T/wordcount.yuyiran.20181008.151714.405200/output\n",
      "job output is in /var/folders/gc/9wzfft1j25x30gdz09scyb240000gn/T/wordcount.yuyiran.20181008.151714.405200/output\n",
      "job output is in /var/folders/gc/9wzfft1j25x30gdz09scyb240000gn/T/wordcount.yuyiran.20181008.151714.405200/output\n",
      "job output is in /var/folders/gc/9wzfft1j25x30gdz09scyb240000gn/T/wordcount.yuyiran.20181008.151714.405200/output\n",
      "job output is in /var/folders/gc/9wzfft1j25x30gdz09scyb240000gn/T/wordcount.yuyiran.20181008.151714.405200/output\n",
      "job output is in /var/folders/gc/9wzfft1j25x30gdz09scyb240000gn/T/wordcount.yuyiran.20181008.151714.405200/output\n",
      "job output is in /var/folders/gc/9wzfft1j25x30gdz09scyb240000gn/T/wordcount.yuyiran.20181008.151714.405200/output\n",
      "job output is in /var/folders/gc/9wzfft1j25x30gdz09scyb240000gn/T/wordcount.yuyiran.20181008.151714.405200/output\n",
      "Streaming final output from /var/folders/gc/9wzfft1j25x30gdz09scyb240000gn/T/wordcount.yuyiran.20181008.151714.405200/output...\n",
      "Streaming final output from /var/folders/gc/9wzfft1j25x30gdz09scyb240000gn/T/wordcount.yuyiran.20181008.151714.405200/output...\n",
      "Streaming final output from /var/folders/gc/9wzfft1j25x30gdz09scyb240000gn/T/wordcount.yuyiran.20181008.151714.405200/output...\n",
      "Streaming final output from /var/folders/gc/9wzfft1j25x30gdz09scyb240000gn/T/wordcount.yuyiran.20181008.151714.405200/output...\n",
      "Streaming final output from /var/folders/gc/9wzfft1j25x30gdz09scyb240000gn/T/wordcount.yuyiran.20181008.151714.405200/output...\n",
      "Streaming final output from /var/folders/gc/9wzfft1j25x30gdz09scyb240000gn/T/wordcount.yuyiran.20181008.151714.405200/output...\n",
      "Streaming final output from /var/folders/gc/9wzfft1j25x30gdz09scyb240000gn/T/wordcount.yuyiran.20181008.151714.405200/output...\n",
      "Streaming final output from /var/folders/gc/9wzfft1j25x30gdz09scyb240000gn/T/wordcount.yuyiran.20181008.151714.405200/output...\n",
      "Streaming final output from /var/folders/gc/9wzfft1j25x30gdz09scyb240000gn/T/wordcount.yuyiran.20181008.151714.405200/output...\n",
      "Streaming final output from /var/folders/gc/9wzfft1j25x30gdz09scyb240000gn/T/wordcount.yuyiran.20181008.151714.405200/output...\n",
      "Streaming final output from /var/folders/gc/9wzfft1j25x30gdz09scyb240000gn/T/wordcount.yuyiran.20181008.151714.405200/output...\n"
     ]
    },
    {
     "name": "stdout",
     "output_type": "stream",
     "text": [
      "93739\t\"the\"\n",
      "79182\t\"and\"\n",
      "53121\t\"of\"\n",
      "33929\t\"to\"\n",
      "30240\t\"i\"\n",
      "24407\t\"that\"\n",
      "24350\t\"in\"\n",
      "23504\t\"a\"\n",
      "17312\t\"my\"\n",
      "17087\t\"he\"\n"
     ]
    },
    {
     "name": "stderr",
     "output_type": "stream",
     "text": [
      "Removing temp directory /var/folders/gc/9wzfft1j25x30gdz09scyb240000gn/T/wordcount.yuyiran.20181008.151714.405200...\n",
      "Removing temp directory /var/folders/gc/9wzfft1j25x30gdz09scyb240000gn/T/wordcount.yuyiran.20181008.151714.405200...\n",
      "Removing temp directory /var/folders/gc/9wzfft1j25x30gdz09scyb240000gn/T/wordcount.yuyiran.20181008.151714.405200...\n",
      "Removing temp directory /var/folders/gc/9wzfft1j25x30gdz09scyb240000gn/T/wordcount.yuyiran.20181008.151714.405200...\n",
      "Removing temp directory /var/folders/gc/9wzfft1j25x30gdz09scyb240000gn/T/wordcount.yuyiran.20181008.151714.405200...\n",
      "Removing temp directory /var/folders/gc/9wzfft1j25x30gdz09scyb240000gn/T/wordcount.yuyiran.20181008.151714.405200...\n",
      "Removing temp directory /var/folders/gc/9wzfft1j25x30gdz09scyb240000gn/T/wordcount.yuyiran.20181008.151714.405200...\n",
      "Removing temp directory /var/folders/gc/9wzfft1j25x30gdz09scyb240000gn/T/wordcount.yuyiran.20181008.151714.405200...\n",
      "Removing temp directory /var/folders/gc/9wzfft1j25x30gdz09scyb240000gn/T/wordcount.yuyiran.20181008.151714.405200...\n",
      "Removing temp directory /var/folders/gc/9wzfft1j25x30gdz09scyb240000gn/T/wordcount.yuyiran.20181008.151714.405200...\n",
      "Removing temp directory /var/folders/gc/9wzfft1j25x30gdz09scyb240000gn/T/wordcount.yuyiran.20181008.151714.405200...\n"
     ]
    }
   ],
   "source": [
    "%run code/wordcount.py data/bible+shakes.nopunc.txt"
   ]
  },
  {
   "cell_type": "code",
   "execution_count": 8,
   "metadata": {},
   "outputs": [
    {
     "data": {
      "text/plain": [
       "<matplotlib.axes._subplots.AxesSubplot at 0x11e4165d0>"
      ]
     },
     "execution_count": 8,
     "metadata": {},
     "output_type": "execute_result"
    },
    {
     "data": {
      "image/png": "[encoded data removed]",
      "text/plain": [
       "<Figure size 432x288 with 1 Axes>"
      ]
     },
     "metadata": {},
     "output_type": "display_data"
    },
    {
     "data": {
      "image/png": "[encoded data removed]",
      "text/plain": [
       "<Figure size 432x288 with 1 Axes>"
      ]
     },
     "metadata": {},
     "output_type": "display_data"
    },
    {
     "data": {
      "image/png": "[encoded data removed]",
      "text/plain": [
       "<Figure size 432x288 with 1 Axes>"
      ]
     },
     "metadata": {},
     "output_type": "display_data"
    }
   ],
   "source": [
    "bigram = pd.read_excel(\"data/bigram.xlsx\")\n",
    "trigram = pd.read_excel(\"data/trigram.xlsx\")\n",
    "wordcount = pd.read_excel(\"data/word.xlsx\")\n",
    "\n",
    "\n",
    "bigram.plot(kind='bar',title = 'top 10 of Bigram')\n",
    "trigram.plot(kind='bar',title = 'top 10 of Trigram')\n",
    "wordcount.plot(kind='bar',title = 'top 10 of Word')"
   ]
  },
  {
   "cell_type": "markdown",
   "metadata": {},
   "source": [
    "## For greater than a score of 3 \n",
    "###  Create a TD - IDF implementation and \n",
    "### Analyze the following Sherlock Holmes book from Project Gutenberg text versions of :\n",
    "The Adventures of Sherlock Holmes-  http://www.gutenberg.org/ebooks/1661.txt.utf-8\n",
    "\n",
    "A Study in Scarlet - http://www.gutenberg.org/files/244/244-0.txt\n",
    "\n",
    "The Hound of the Baskervilles - http://www.gutenberg.org/files/2852/2852-0.txt\n",
    "\n",
    "The Return of Sherlock Holmes - http://www.gutenberg.org/files/108/108-0.txt\n",
    "\n",
    "The Sign of the Four - http://www.gutenberg.org/ebooks/2097.txt.utf-8\n",
    "\n",
    "### Display the scores for the top 20 highest frequencty terms and the relationship to the books\n",
    "\n"
   ]
  },
  {
   "cell_type": "code",
   "execution_count": null,
   "metadata": {
    "collapsed": true
   },
   "outputs": [],
   "source": [
    "from mrjob.job import MRJob\n",
    "import nltk\n",
    "from nltk.corpus import stopwords\n",
    "\n",
    "class tokencount(MRJob):\n",
    "    def mapper(self, _, line):\n",
    "        english_stopwords=stopwords.words('english')\n",
    "        tx=nltk.word_tokenize(unicode(line.lower(),'utf-8'))       \n",
    "        for i in tx: \n",
    "            if (len(i)>1) and (i not in english_stopwords) and i.isalnum():\n",
    "                yield i,1\n",
    "\n",
    "    def reducer(self, key, val):\n",
    "        yield key,sum(val)\n",
    "        \n",
    "\n",
    "if __name__ == '__main__':\n",
    "    tokencount.run()\n"
   ]
  },
  {
   "cell_type": "code",
   "execution_count": null,
   "metadata": {},
   "outputs": [],
   "source": []
  }
 ],
 "metadata": {
  "kernelspec": {
   "display_name": "Python 2",
   "language": "python",
   "name": "python2"
  },
  "language_info": {
   "codemirror_mode": {
    "name": "ipython",
    "version": 2
   },
   "file_extension": ".py",
   "mimetype": "text/x-python",
   "name": "python",
   "nbconvert_exporter": "python",
   "pygments_lexer": "ipython2",
   "version": "2.7.15"
  }
 },
 "nbformat": 4,
 "nbformat_minor": 1
}
